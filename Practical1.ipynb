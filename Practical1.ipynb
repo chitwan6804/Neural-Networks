{
  "nbformat": 4,
  "nbformat_minor": 0,
  "metadata": {
    "colab": {
      "provenance": [],
      "authorship_tag": "ABX9TyPCcX/nC+lQ9u0w5VD8XkN9",
      "include_colab_link": true
    },
    "kernelspec": {
      "name": "python3",
      "display_name": "Python 3"
    },
    "language_info": {
      "name": "python"
    }
  },
  "cells": [
    {
      "cell_type": "markdown",
      "metadata": {
        "id": "view-in-github",
        "colab_type": "text"
      },
      "source": [
        "<a href=\"https://colab.research.google.com/github/chitwan6804/Neural-Networks/blob/main/Practical1.ipynb\" target=\"_parent\"><img src=\"https://colab.research.google.com/assets/colab-badge.svg\" alt=\"Open In Colab\"/></a>"
      ]
    },
    {
      "cell_type": "code",
      "execution_count": 2,
      "metadata": {
        "id": "WWegFdQBImXy"
      },
      "outputs": [],
      "source": [
        "import numpy as np\n",
        "np.random.seed(seed=0)"
      ]
    },
    {
      "cell_type": "code",
      "source": [
        "I = np.random.choice([0,1], 3)# generate random vector I, sampling from {0,1}\n",
        "W = np.random.choice([-1,1], 3) # generate random vector W, sampling from {-1,1}\n",
        "print(f'Input vector:{I}, Weight vector:{W}')"
      ],
      "metadata": {
        "colab": {
          "base_uri": "https://localhost:8080/"
        },
        "id": "eVFnkGjuIri6",
        "outputId": "d05b047d-9a87-48ae-fc62-33306ee06566"
      },
      "execution_count": 3,
      "outputs": [
        {
          "output_type": "stream",
          "name": "stdout",
          "text": [
            "Input vector:[0 1 1], Weight vector:[-1  1  1]\n"
          ]
        }
      ]
    },
    {
      "cell_type": "code",
      "source": [
        "dot = I @ W\n",
        "print(f'Dot product: {dot}')"
      ],
      "metadata": {
        "colab": {
          "base_uri": "https://localhost:8080/"
        },
        "id": "NiABr_pQJWEW",
        "outputId": "33d5d89c-4ac1-48e3-a4b9-677556b0ee1d"
      },
      "execution_count": 4,
      "outputs": [
        {
          "output_type": "stream",
          "name": "stdout",
          "text": [
            "Dot product: 2\n"
          ]
        }
      ]
    },
    {
      "cell_type": "code",
      "source": [
        "def linear_threshold_gate(dot: int, T: float) -> int:\n",
        "    '''Returns the binary threshold output'''\n",
        "    if dot >= T:\n",
        "        return 1\n",
        "    else:\n",
        "        return 0"
      ],
      "metadata": {
        "id": "WShNOJv5JZEU"
      },
      "execution_count": 5,
      "outputs": []
    },
    {
      "cell_type": "code",
      "source": [
        "input_table = np.array([\n",
        "    [0,0], # both no\n",
        "    [0,1], # one no, one yes\n",
        "    [1,0], # one yes, one no\n",
        "    [1,1]  # bot yes\n",
        "])"
      ],
      "metadata": {
        "id": "I_1y5AL9JbvW"
      },
      "execution_count": 6,
      "outputs": []
    },
    {
      "cell_type": "code",
      "source": [
        "print(f'input table:\\n{input_table}')"
      ],
      "metadata": {
        "colab": {
          "base_uri": "https://localhost:8080/"
        },
        "id": "J9Zps5reJerL",
        "outputId": "619cb604-1a51-4b16-8b65-372226c038fb"
      },
      "execution_count": 7,
      "outputs": [
        {
          "output_type": "stream",
          "name": "stdout",
          "text": [
            "input table:\n",
            "[[0 0]\n",
            " [0 1]\n",
            " [1 0]\n",
            " [1 1]]\n"
          ]
        }
      ]
    },
    {
      "cell_type": "code",
      "source": [
        "weights = np.array([1,1])\n",
        "print(f'weights: {weights}')"
      ],
      "metadata": {
        "colab": {
          "base_uri": "https://localhost:8080/"
        },
        "id": "a4REkj6fJtDu",
        "outputId": "37670a9b-6c97-411a-d325-7d9250a3bdb1"
      },
      "execution_count": 8,
      "outputs": [
        {
          "output_type": "stream",
          "name": "stdout",
          "text": [
            "weights: [1 1]\n"
          ]
        }
      ]
    },
    {
      "cell_type": "code",
      "source": [
        "dot_products = input_table @ weights\n",
        "print(f'Dot products: {dot_products}')"
      ],
      "metadata": {
        "colab": {
          "base_uri": "https://localhost:8080/"
        },
        "id": "SvgwkCcPJum2",
        "outputId": "440eadb7-817f-405b-f936-2b8472e380aa"
      },
      "execution_count": 9,
      "outputs": [
        {
          "output_type": "stream",
          "name": "stdout",
          "text": [
            "Dot products: [0 1 1 2]\n"
          ]
        }
      ]
    },
    {
      "cell_type": "code",
      "source": [
        "T = 2\n",
        "for i in range(0,4):\n",
        "    activation = linear_threshold_gate(dot_products[i], T)\n",
        "    print(f'Activation: {activation}')"
      ],
      "metadata": {
        "colab": {
          "base_uri": "https://localhost:8080/"
        },
        "id": "9S-W0sZRJxAw",
        "outputId": "3991dc08-7ecf-4771-a47c-2619e4c64955"
      },
      "execution_count": 10,
      "outputs": [
        {
          "output_type": "stream",
          "name": "stdout",
          "text": [
            "Activation: 0\n",
            "Activation: 0\n",
            "Activation: 0\n",
            "Activation: 1\n"
          ]
        }
      ]
    },
    {
      "cell_type": "code",
      "source": [],
      "metadata": {
        "id": "z2m5aQdKJyp-"
      },
      "execution_count": null,
      "outputs": []
    }
  ]
}