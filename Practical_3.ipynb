{
  "nbformat": 4,
  "nbformat_minor": 0,
  "metadata": {
    "colab": {
      "provenance": [],
      "authorship_tag": "ABX9TyOfeYJ8uiPCxQ36E8EVqYna",
      "include_colab_link": true
    },
    "kernelspec": {
      "name": "python3",
      "display_name": "Python 3"
    },
    "language_info": {
      "name": "python"
    }
  },
  "cells": [
    {
      "cell_type": "markdown",
      "metadata": {
        "id": "view-in-github",
        "colab_type": "text"
      },
      "source": [
        "<a href=\"https://colab.research.google.com/github/chitwan6804/Neural-Networks/blob/main/Practical_3.ipynb\" target=\"_parent\"><img src=\"https://colab.research.google.com/assets/colab-badge.svg\" alt=\"Open In Colab\"/></a>"
      ]
    },
    {
      "cell_type": "code",
      "source": [
        "from itertools import product"
      ],
      "metadata": {
        "id": "QOET_Hm8LQrZ"
      },
      "execution_count": 7,
      "outputs": []
    },
    {
      "cell_type": "code",
      "execution_count": 1,
      "metadata": {
        "id": "fx2vuJ_dGDNi"
      },
      "outputs": [],
      "source": [
        "def mp_neuron(threshold,weights,inputs):\n",
        "  total=sum(w*x for w,x in zip(weights,inputs))\n",
        "  return 1 if total >= threshold else 0"
      ]
    },
    {
      "cell_type": "code",
      "source": [
        "def XOR(a,b):\n",
        "  h1=mp_neuron(1,[1,-1],[a,b])\n",
        "  h2=mp_neuron(1,[-1,1],[a,b])\n",
        "  h3=mp_neuron(1,[1,1],[h1,h2])\n",
        "  return h3"
      ],
      "metadata": {
        "id": "oCULflk2Hhp8"
      },
      "execution_count": 2,
      "outputs": []
    },
    {
      "cell_type": "markdown",
      "source": [
        "2 parity"
      ],
      "metadata": {
        "id": "cXz874EaI5Fq"
      }
    },
    {
      "cell_type": "code",
      "source": [
        "def parity2(x1,x2):\n",
        "  return XOR(x1,x2)"
      ],
      "metadata": {
        "id": "S7RKbC7oH9uJ"
      },
      "execution_count": 3,
      "outputs": []
    },
    {
      "cell_type": "markdown",
      "source": [
        "3 parity"
      ],
      "metadata": {
        "id": "kgbyINlEKzae"
      }
    },
    {
      "cell_type": "code",
      "source": [
        "def parity3(x1,x2,x3):\n",
        "  y1=XOR(x2,x3)\n",
        "  return XOR(y1,x1)"
      ],
      "metadata": {
        "id": "BgBzi7o6KkZ8"
      },
      "execution_count": 5,
      "outputs": []
    },
    {
      "cell_type": "markdown",
      "source": [
        "4 parity"
      ],
      "metadata": {
        "id": "Oio2sKFaK05Z"
      }
    },
    {
      "cell_type": "code",
      "source": [
        "def parity4(x1,x2,x3,x4):\n",
        "  y1=XOR(x2,x3)\n",
        "  y2=XOR(x1,x4)\n",
        "  return XOR(y1,y2)"
      ],
      "metadata": {
        "id": "RBHhUYstKrw2"
      },
      "execution_count": 6,
      "outputs": []
    },
    {
      "cell_type": "markdown",
      "source": [
        "Testing"
      ],
      "metadata": {
        "id": "oB7EI1M8LJHY"
      }
    },
    {
      "cell_type": "code",
      "source": [
        "for x1, x2 in product([0, 1], repeat=2):\n",
        "  print((x1, x2), \"->\", parity2(x1, x2))"
      ],
      "metadata": {
        "colab": {
          "base_uri": "https://localhost:8080/"
        },
        "id": "03AMXJ82KyOr",
        "outputId": "e9b43c7c-5083-4f8f-a332-6ebbe408b2e9"
      },
      "execution_count": 11,
      "outputs": [
        {
          "output_type": "stream",
          "name": "stdout",
          "text": [
            "(0, 0) -> 0\n",
            "(0, 1) -> 1\n",
            "(1, 0) -> 1\n",
            "(1, 1) -> 0\n"
          ]
        }
      ]
    },
    {
      "cell_type": "code",
      "source": [
        "for x1, x2,x3 in product([0, 1], repeat=3):\n",
        "  print((x1, x2,x3), \"->\", parity3(x1, x2,x3))"
      ],
      "metadata": {
        "colab": {
          "base_uri": "https://localhost:8080/"
        },
        "id": "TmfN5U3rMp3I",
        "outputId": "6a30a2b5-02e9-42b6-c557-32059dea184b"
      },
      "execution_count": 10,
      "outputs": [
        {
          "output_type": "stream",
          "name": "stdout",
          "text": [
            "(0, 0, 0) -> 0\n",
            "(0, 0, 1) -> 1\n",
            "(0, 1, 0) -> 1\n",
            "(0, 1, 1) -> 0\n",
            "(1, 0, 0) -> 1\n",
            "(1, 0, 1) -> 0\n",
            "(1, 1, 0) -> 0\n",
            "(1, 1, 1) -> 1\n"
          ]
        }
      ]
    },
    {
      "cell_type": "code",
      "source": [
        "for x1,x2,x3,x4 in product([0,1],repeat=4):\n",
        "  print((x1,x2,x3,x4),\"->\",parity4(x1,x2,x3,x4))"
      ],
      "metadata": {
        "colab": {
          "base_uri": "https://localhost:8080/"
        },
        "id": "fk3h4g7LMxfH",
        "outputId": "19b49560-4da1-4945-b29a-c276eb3480df"
      },
      "execution_count": 12,
      "outputs": [
        {
          "output_type": "stream",
          "name": "stdout",
          "text": [
            "(0, 0, 0, 0) -> 0\n",
            "(0, 0, 0, 1) -> 1\n",
            "(0, 0, 1, 0) -> 1\n",
            "(0, 0, 1, 1) -> 0\n",
            "(0, 1, 0, 0) -> 1\n",
            "(0, 1, 0, 1) -> 0\n",
            "(0, 1, 1, 0) -> 0\n",
            "(0, 1, 1, 1) -> 1\n",
            "(1, 0, 0, 0) -> 1\n",
            "(1, 0, 0, 1) -> 0\n",
            "(1, 0, 1, 0) -> 0\n",
            "(1, 0, 1, 1) -> 1\n",
            "(1, 1, 0, 0) -> 0\n",
            "(1, 1, 0, 1) -> 1\n",
            "(1, 1, 1, 0) -> 1\n",
            "(1, 1, 1, 1) -> 0\n"
          ]
        }
      ]
    },
    {
      "cell_type": "code",
      "source": [],
      "metadata": {
        "id": "FluuuucDNYpj"
      },
      "execution_count": null,
      "outputs": []
    }
  ]
}