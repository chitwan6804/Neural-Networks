{
  "nbformat": 4,
  "nbformat_minor": 0,
  "metadata": {
    "colab": {
      "provenance": [],
      "authorship_tag": "ABX9TyOMzow3WNJYv2jqZYjdygX9",
      "include_colab_link": true
    },
    "kernelspec": {
      "name": "python3",
      "display_name": "Python 3"
    },
    "language_info": {
      "name": "python"
    }
  },
  "cells": [
    {
      "cell_type": "markdown",
      "metadata": {
        "id": "view-in-github",
        "colab_type": "text"
      },
      "source": [
        "<a href=\"https://colab.research.google.com/github/chitwan6804/Neural-Networks/blob/main/Practical_4.ipynb\" target=\"_parent\"><img src=\"https://colab.research.google.com/assets/colab-badge.svg\" alt=\"Open In Colab\"/></a>"
      ]
    },
    {
      "cell_type": "code",
      "execution_count": 14,
      "metadata": {
        "id": "Oe7VesukR1Xw"
      },
      "outputs": [],
      "source": [
        "from itertools import product"
      ]
    },
    {
      "cell_type": "code",
      "source": [
        "def mp_neuron(weights, threshold, inputs):\n",
        "    total = sum(w * x for w, x in zip(weights, inputs))\n",
        "    return 1 if total >= threshold else 0"
      ],
      "metadata": {
        "id": "fsXT4ciXSx9l"
      },
      "execution_count": 15,
      "outputs": []
    },
    {
      "cell_type": "code",
      "source": [
        "T_pattern = [\n",
        "    [1,1,1,1,1,1,1,1,1,1],\n",
        "    [0,0,0,0,1,0,0,0,0,0],\n",
        "    [0,0,0,0,1,0,0,0,0,0],\n",
        "    [0,0,0,0,1,0,0,0,0,0],\n",
        "    [0,0,0,0,1,0,0,0,0,0],\n",
        "    [0,0,0,0,1,0,0,0,0,0],\n",
        "    [0,0,0,0,1,0,0,0,0,0],\n",
        "    [0,0,0,0,1,0,0,0,0,0],\n",
        "    [0,0,0,0,1,0,0,0,0,0],\n",
        "    [0,0,0,0,1,0,0,0,0,0]\n",
        "]"
      ],
      "metadata": {
        "id": "zBQLpGMlS0Dd"
      },
      "execution_count": 16,
      "outputs": []
    },
    {
      "cell_type": "code",
      "source": [
        "T_vector = [pixel for row in T_pattern for pixel in row]"
      ],
      "metadata": {
        "id": "Aewh_6BES2aP"
      },
      "execution_count": 17,
      "outputs": []
    },
    {
      "cell_type": "code",
      "source": [
        "weights = [1 if pixel == 1 else -1 for pixel in T_vector]"
      ],
      "metadata": {
        "id": "w90gDYUsS3Cg"
      },
      "execution_count": 18,
      "outputs": []
    },
    {
      "cell_type": "code",
      "source": [
        "threshold = sum(T_vector)"
      ],
      "metadata": {
        "id": "2gnYDhNlS6dQ"
      },
      "execution_count": 19,
      "outputs": []
    },
    {
      "cell_type": "markdown",
      "source": [
        "Testing"
      ],
      "metadata": {
        "id": "7qtfv4lVTpyt"
      }
    },
    {
      "cell_type": "code",
      "source": [
        "output1 = mp_neuron(weights, threshold, T_vector)\n",
        "print(\"Output for correct T pattern:\", output1)\n",
        "if output1==1:\n",
        "  print(\"T found\")\n",
        "else:\n",
        "   print(\"T not found\")"
      ],
      "metadata": {
        "colab": {
          "base_uri": "https://localhost:8080/"
        },
        "id": "i_crnzuCS4Xr",
        "outputId": "df4813ab-913c-43e8-ec8d-0e16b5797ce7"
      },
      "execution_count": 20,
      "outputs": [
        {
          "output_type": "stream",
          "name": "stdout",
          "text": [
            "Output for correct T pattern: 1\n",
            "T found\n"
          ]
        }
      ]
    },
    {
      "cell_type": "code",
      "source": [
        "wrong_pattern = T_vector.copy()\n",
        "wrong_pattern[0] = 0  # flip first pixel\n",
        "output2 = mp_neuron(weights, threshold, wrong_pattern)\n",
        "print(\"Output for incorrect pattern:\", output2)\n",
        "if output2==1:\n",
        "  print(\"T found\")\n",
        "else:\n",
        "   print(\"T not found\")"
      ],
      "metadata": {
        "colab": {
          "base_uri": "https://localhost:8080/"
        },
        "id": "vRfGBI-HS-nx",
        "outputId": "102287ee-78d2-4f89-d58c-cccef1e458e4"
      },
      "execution_count": 21,
      "outputs": [
        {
          "output_type": "stream",
          "name": "stdout",
          "text": [
            "Output for incorrect pattern: 0\n",
            "T not found\n"
          ]
        }
      ]
    },
    {
      "cell_type": "code",
      "source": [
        "zero_pattern = [0]*100\n",
        "output3 = mp_neuron(weights, threshold, zero_pattern)\n",
        "print(\"Output for blank pattern:\", output3)\n",
        "if output3==1:\n",
        "  print(\"T found\")\n",
        "else:\n",
        "   print(\"T not found\")"
      ],
      "metadata": {
        "colab": {
          "base_uri": "https://localhost:8080/"
        },
        "id": "T-bkX029S_SG",
        "outputId": "dfc95be8-c6b1-4d78-ca5d-594f12f2afc7"
      },
      "execution_count": 22,
      "outputs": [
        {
          "output_type": "stream",
          "name": "stdout",
          "text": [
            "Output for blank pattern: 0\n",
            "T not found\n"
          ]
        }
      ]
    }
  ]
}